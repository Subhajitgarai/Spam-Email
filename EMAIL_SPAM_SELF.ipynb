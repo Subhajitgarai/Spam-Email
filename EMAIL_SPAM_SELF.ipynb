{
 "cells": [
  {
   "cell_type": "markdown",
   "metadata": {
    "id": "HlQeljBUyWtU"
   },
   "source": [
    "# SPAM EMAIL CLASSIFICATION"
   ]
  },
  {
   "cell_type": "code",
   "execution_count": 1,
   "metadata": {
    "colab": {
     "base_uri": "https://localhost:8080/"
    },
    "id": "H_h_tR_nzz5K",
    "outputId": "e4ef0e38-0c13-4e4a-d49a-1b4e3e41dbd5"
   },
   "outputs": [],
   "source": [
    "import numpy as np #for performing mathematical operations on numerical array\n",
    "import pandas as pd #for uplpoading dataset in a dataframe module to perform ML algo(s)\n",
    "import nltk #Natural Language Toolkit is open-source module\n",
    "import re #regular expression for pattern matching\n",
    "from nltk.corpus import stopwords #importing stopword modules for removing common words\n",
    "from nltk.stem.porter import PorterStemmer #importing Module for Stemming purposes\n",
    "from sklearn.model_selection import train_test_split #training_testing spliting\n",
    "from sklearn.feature_extraction.text import TfidfVectorizer #TF-IDF vectorizer module\n",
    "from sklearn.linear_model import LogisticRegression #Logistic Regression Model\n",
    "from sklearn.naive_bayes import MultinomialNB #Multinomial Regression Model\n",
    "from sklearn.metrics import confusion_matrix #for printing the confusion matrix\n",
    "from sklearn.metrics import accuracy_score #for printing the accuracy score\n",
    "from sklearn.preprocessing import LabelEncoder #for label encoding the data\n",
    "#nltk.download('stopwords')"
   ]
  },
  {
   "cell_type": "markdown",
   "metadata": {
    "id": "buBFYZwE1d0S"
   },
   "source": [
    "### Dataset into the dataframe"
   ]
  },
  {
   "cell_type": "code",
   "execution_count": 2,
   "metadata": {
    "colab": {
     "base_uri": "https://localhost:8080/",
     "height": 206
    },
    "id": "NvXJcGvb0IWo",
    "outputId": "a700c747-804c-475e-d138-13103467e860",
    "scrolled": true
   },
   "outputs": [
    {
     "data": {
      "text/html": [
       "<div>\n",
       "<style scoped>\n",
       "    .dataframe tbody tr th:only-of-type {\n",
       "        vertical-align: middle;\n",
       "    }\n",
       "\n",
       "    .dataframe tbody tr th {\n",
       "        vertical-align: top;\n",
       "    }\n",
       "\n",
       "    .dataframe thead th {\n",
       "        text-align: right;\n",
       "    }\n",
       "</style>\n",
       "<table border=\"1\" class=\"dataframe\">\n",
       "  <thead>\n",
       "    <tr style=\"text-align: right;\">\n",
       "      <th></th>\n",
       "      <th>Category</th>\n",
       "      <th>Message</th>\n",
       "    </tr>\n",
       "  </thead>\n",
       "  <tbody>\n",
       "    <tr>\n",
       "      <th>0</th>\n",
       "      <td>ham</td>\n",
       "      <td>Go until jurong point, crazy.. Available only ...</td>\n",
       "    </tr>\n",
       "    <tr>\n",
       "      <th>1</th>\n",
       "      <td>ham</td>\n",
       "      <td>Ok lar... Joking wif u oni...</td>\n",
       "    </tr>\n",
       "    <tr>\n",
       "      <th>2</th>\n",
       "      <td>spam</td>\n",
       "      <td>Free entry in 2 a wkly comp to win FA Cup fina...</td>\n",
       "    </tr>\n",
       "    <tr>\n",
       "      <th>3</th>\n",
       "      <td>ham</td>\n",
       "      <td>U dun say so early hor... U c already then say...</td>\n",
       "    </tr>\n",
       "    <tr>\n",
       "      <th>4</th>\n",
       "      <td>ham</td>\n",
       "      <td>Nah I don't think he goes to usf, he lives aro...</td>\n",
       "    </tr>\n",
       "  </tbody>\n",
       "</table>\n",
       "</div>"
      ],
      "text/plain": [
       "  Category                                            Message\n",
       "0      ham  Go until jurong point, crazy.. Available only ...\n",
       "1      ham                      Ok lar... Joking wif u oni...\n",
       "2     spam  Free entry in 2 a wkly comp to win FA Cup fina...\n",
       "3      ham  U dun say so early hor... U c already then say...\n",
       "4      ham  Nah I don't think he goes to usf, he lives aro..."
      ]
     },
     "execution_count": 2,
     "metadata": {},
     "output_type": "execute_result"
    }
   ],
   "source": [
    "df=pd.read_csv('mail_data.csv')\n",
    "df.head()"
   ]
  },
  {
   "cell_type": "code",
   "execution_count": 3,
   "metadata": {
    "scrolled": true
   },
   "outputs": [
    {
     "data": {
      "text/html": [
       "<div>\n",
       "<style scoped>\n",
       "    .dataframe tbody tr th:only-of-type {\n",
       "        vertical-align: middle;\n",
       "    }\n",
       "\n",
       "    .dataframe tbody tr th {\n",
       "        vertical-align: top;\n",
       "    }\n",
       "\n",
       "    .dataframe thead th {\n",
       "        text-align: right;\n",
       "    }\n",
       "</style>\n",
       "<table border=\"1\" class=\"dataframe\">\n",
       "  <thead>\n",
       "    <tr style=\"text-align: right;\">\n",
       "      <th></th>\n",
       "      <th>Category</th>\n",
       "      <th>Message</th>\n",
       "    </tr>\n",
       "  </thead>\n",
       "  <tbody>\n",
       "    <tr>\n",
       "      <th>count</th>\n",
       "      <td>5572</td>\n",
       "      <td>5572</td>\n",
       "    </tr>\n",
       "    <tr>\n",
       "      <th>unique</th>\n",
       "      <td>2</td>\n",
       "      <td>5157</td>\n",
       "    </tr>\n",
       "    <tr>\n",
       "      <th>top</th>\n",
       "      <td>ham</td>\n",
       "      <td>Sorry, I'll call later</td>\n",
       "    </tr>\n",
       "    <tr>\n",
       "      <th>freq</th>\n",
       "      <td>4825</td>\n",
       "      <td>30</td>\n",
       "    </tr>\n",
       "  </tbody>\n",
       "</table>\n",
       "</div>"
      ],
      "text/plain": [
       "       Category                 Message\n",
       "count      5572                    5572\n",
       "unique        2                    5157\n",
       "top         ham  Sorry, I'll call later\n",
       "freq       4825                      30"
      ]
     },
     "execution_count": 3,
     "metadata": {},
     "output_type": "execute_result"
    }
   ],
   "source": [
    "df.describe()"
   ]
  },
  {
   "cell_type": "code",
   "execution_count": 4,
   "metadata": {},
   "outputs": [
    {
     "data": {
      "text/html": [
       "<div>\n",
       "<style scoped>\n",
       "    .dataframe tbody tr th:only-of-type {\n",
       "        vertical-align: middle;\n",
       "    }\n",
       "\n",
       "    .dataframe tbody tr th {\n",
       "        vertical-align: top;\n",
       "    }\n",
       "\n",
       "    .dataframe thead th {\n",
       "        text-align: right;\n",
       "    }\n",
       "</style>\n",
       "<table border=\"1\" class=\"dataframe\">\n",
       "  <thead>\n",
       "    <tr style=\"text-align: right;\">\n",
       "      <th></th>\n",
       "      <th>Category</th>\n",
       "      <th>Message</th>\n",
       "    </tr>\n",
       "  </thead>\n",
       "  <tbody>\n",
       "    <tr>\n",
       "      <th>5567</th>\n",
       "      <td>spam</td>\n",
       "      <td>This is the 2nd time we have tried 2 contact u...</td>\n",
       "    </tr>\n",
       "    <tr>\n",
       "      <th>5568</th>\n",
       "      <td>ham</td>\n",
       "      <td>Will ü b going to esplanade fr home?</td>\n",
       "    </tr>\n",
       "    <tr>\n",
       "      <th>5569</th>\n",
       "      <td>ham</td>\n",
       "      <td>Pity, * was in mood for that. So...any other s...</td>\n",
       "    </tr>\n",
       "    <tr>\n",
       "      <th>5570</th>\n",
       "      <td>ham</td>\n",
       "      <td>The guy did some bitching but I acted like i'd...</td>\n",
       "    </tr>\n",
       "    <tr>\n",
       "      <th>5571</th>\n",
       "      <td>ham</td>\n",
       "      <td>Rofl. Its true to its name</td>\n",
       "    </tr>\n",
       "  </tbody>\n",
       "</table>\n",
       "</div>"
      ],
      "text/plain": [
       "     Category                                            Message\n",
       "5567     spam  This is the 2nd time we have tried 2 contact u...\n",
       "5568      ham               Will ü b going to esplanade fr home?\n",
       "5569      ham  Pity, * was in mood for that. So...any other s...\n",
       "5570      ham  The guy did some bitching but I acted like i'd...\n",
       "5571      ham                         Rofl. Its true to its name"
      ]
     },
     "execution_count": 4,
     "metadata": {},
     "output_type": "execute_result"
    }
   ],
   "source": [
    "df.tail()"
   ]
  },
  {
   "cell_type": "code",
   "execution_count": 5,
   "metadata": {
    "colab": {
     "base_uri": "https://localhost:8080/"
    },
    "id": "UfqVlQPKRZn6",
    "outputId": "20a40302-e769-4b8f-90de-8812e5ca929f",
    "scrolled": true
   },
   "outputs": [
    {
     "data": {
      "text/plain": [
       "False"
      ]
     },
     "execution_count": 5,
     "metadata": {},
     "output_type": "execute_result"
    }
   ],
   "source": [
    "df.isnull().values.any() #There are no null values in the dataset"
   ]
  },
  {
   "cell_type": "code",
   "execution_count": 6,
   "metadata": {},
   "outputs": [
    {
     "data": {
      "text/plain": [
       "Category    0\n",
       "Message     0\n",
       "dtype: int64"
      ]
     },
     "execution_count": 6,
     "metadata": {},
     "output_type": "execute_result"
    }
   ],
   "source": [
    "df.isnull().sum()"
   ]
  },
  {
   "cell_type": "code",
   "execution_count": 7,
   "metadata": {
    "colab": {
     "base_uri": "https://localhost:8080/"
    },
    "id": "AyOBkA-l2y6T",
    "outputId": "6f7af61b-b8de-480c-faba-cdbadcc1e206"
   },
   "outputs": [
    {
     "data": {
      "text/plain": [
       "(5572, 2)"
      ]
     },
     "execution_count": 7,
     "metadata": {},
     "output_type": "execute_result"
    }
   ],
   "source": [
    "df.shape"
   ]
  },
  {
   "cell_type": "markdown",
   "metadata": {
    "id": "r7piBacJ3jHk"
   },
   "source": [
    "### Selecting Dependent and Independent Variables"
   ]
  },
  {
   "cell_type": "code",
   "execution_count": 8,
   "metadata": {
    "colab": {
     "base_uri": "https://localhost:8080/"
    },
    "id": "6GZH0DlC2yUY",
    "outputId": "c32b2044-3402-4229-9b62-6038cca56253"
   },
   "outputs": [
    {
     "data": {
      "text/plain": [
       "0       Go until jurong point, crazy.. Available only ...\n",
       "1                           Ok lar... Joking wif u oni...\n",
       "2       Free entry in 2 a wkly comp to win FA Cup fina...\n",
       "3       U dun say so early hor... U c already then say...\n",
       "4       Nah I don't think he goes to usf, he lives aro...\n",
       "                              ...                        \n",
       "5567    This is the 2nd time we have tried 2 contact u...\n",
       "5568                 Will ü b going to esplanade fr home?\n",
       "5569    Pity, * was in mood for that. So...any other s...\n",
       "5570    The guy did some bitching but I acted like i'd...\n",
       "5571                           Rofl. Its true to its name\n",
       "Name: Message, Length: 5572, dtype: object"
      ]
     },
     "execution_count": 8,
     "metadata": {},
     "output_type": "execute_result"
    }
   ],
   "source": [
    "X = df['Message'] #independent variable\n",
    "X"
   ]
  },
  {
   "cell_type": "code",
   "execution_count": 9,
   "metadata": {
    "id": "BjC4HRX84Czq"
   },
   "outputs": [
    {
     "data": {
      "text/plain": [
       "array([0, 0, 1, ..., 0, 0, 0])"
      ]
     },
     "execution_count": 9,
     "metadata": {},
     "output_type": "execute_result"
    }
   ],
   "source": [
    "Y = np.where(df['Category']=='ham', 0,1) #dependant variable\n",
    "Y"
   ]
  },
  {
   "cell_type": "markdown",
   "metadata": {
    "id": "XDJd0IMG4MnQ"
   },
   "source": [
    "### Data Cleaning and PreProcesssing"
   ]
  },
  {
   "cell_type": "code",
   "execution_count": 10,
   "metadata": {
    "id": "5Huu9kO84Qis"
   },
   "outputs": [],
   "source": [
    "corpus=[]\n",
    "stemmer=PorterStemmer()\n",
    "for i in range(0, len(X)):\n",
    "    sentence = re.sub('[^a-zA-Z]', ' ', X[i])\n",
    "    sentence = sentence.lower()\n",
    "    sentence = sentence.split()\n",
    "    sentence = [stemmer.stem(word) for word in sentence if not word in stopwords.words('english')]\n",
    "    sentence = ' '.join(sentence)\n",
    "    corpus.append(sentence)   "
   ]
  },
  {
   "cell_type": "markdown",
   "metadata": {
    "id": "iHVqfFAK7tKW"
   },
   "source": [
    "### Creating TF-IDF (term frequency-inverse document frequency) model for the text data feature selection (vectorization)"
   ]
  },
  {
   "cell_type": "code",
   "execution_count": 11,
   "metadata": {
    "id": "aBfxe8hW7-0c"
   },
   "outputs": [],
   "source": [
    "cv = TfidfVectorizer(max_features=5000)\n",
    "X = cv.fit_transform(corpus)"
   ]
  },
  {
   "cell_type": "markdown",
   "metadata": {
    "id": "jDO3XIcI97za"
   },
   "source": [
    "Appling Logistic Regression Model in the data"
   ]
  },
  {
   "cell_type": "code",
   "execution_count": 12,
   "metadata": {
    "id": "QesVKGLP92X5"
   },
   "outputs": [],
   "source": [
    "X_train, X_test, Y_train, Y_test = train_test_split(X, Y, test_size = 0.20)"
   ]
  },
  {
   "cell_type": "code",
   "execution_count": 13,
   "metadata": {},
   "outputs": [
    {
     "data": {
      "text/plain": [
       "<5x5000 sparse matrix of type '<class 'numpy.float64'>'\n",
       "\twith 31 stored elements in Compressed Sparse Row format>"
      ]
     },
     "execution_count": 13,
     "metadata": {},
     "output_type": "execute_result"
    }
   ],
   "source": [
    "X_train[:5]"
   ]
  },
  {
   "cell_type": "code",
   "execution_count": 14,
   "metadata": {
    "id": "ik0MsKsE9r4e"
   },
   "outputs": [],
   "source": [
    "Logistic_Model= LogisticRegression().fit(X_train,Y_train)\n",
    "Y_pred_logi=Logistic_Model.predict(X_test)"
   ]
  },
  {
   "cell_type": "code",
   "execution_count": 15,
   "metadata": {
    "colab": {
     "base_uri": "https://localhost:8080/"
    },
    "id": "rFn2XTH2_JZ_",
    "outputId": "cd3da6d1-8bbe-40a3-b990-dcfaccb8082d"
   },
   "outputs": [
    {
     "name": "stdout",
     "output_type": "stream",
     "text": [
      "[[958   7]\n",
      " [ 35 115]]\n",
      "96.23318385650225\n"
     ]
    }
   ],
   "source": [
    "confusion_matrix_Logistic = confusion_matrix(Y_test, Y_pred_logi)\n",
    "accuracy_Logistic = accuracy_score(Y_test, Y_pred_logi)\n",
    "print(confusion_matrix_Logistic)\n",
    "print(accuracy_Logistic*100)"
   ]
  },
  {
   "cell_type": "markdown",
   "metadata": {
    "id": "3rgQnW73BFhg"
   },
   "source": [
    "### Appling Naïve Bayes Model in the data"
   ]
  },
  {
   "cell_type": "code",
   "execution_count": 16,
   "metadata": {
    "id": "RR5t_DuYBK9Z"
   },
   "outputs": [],
   "source": [
    "Naive_Model= MultinomialNB().fit(X_train,Y_train)\n",
    "Y_pred_naive=Naive_Model.predict(X_test)"
   ]
  },
  {
   "cell_type": "code",
   "execution_count": 17,
   "metadata": {
    "colab": {
     "base_uri": "https://localhost:8080/"
    },
    "id": "wr9RQ99kCTnZ",
    "outputId": "4cef9815-dd90-4f69-b15d-a89236b6d7c3"
   },
   "outputs": [
    {
     "name": "stdout",
     "output_type": "stream",
     "text": [
      "[[964   1]\n",
      " [ 22 128]]\n",
      "97.9372197309417\n"
     ]
    }
   ],
   "source": [
    "confusion_matrix_Logistic = confusion_matrix(Y_test, Y_pred_naive)\n",
    "accuracy_Logistic = accuracy_score(Y_test, Y_pred_naive)\n",
    "print(confusion_matrix_Logistic)\n",
    "print(accuracy_Logistic*100)"
   ]
  },
  {
   "cell_type": "code",
   "execution_count": 18,
   "metadata": {},
   "outputs": [
    {
     "name": "stdout",
     "output_type": "stream",
     "text": [
      "Accuracy: 0.979372197309417\n",
      "              precision    recall  f1-score   support\n",
      "\n",
      "           0   0.977688  0.998964  0.988211       965\n",
      "           1   0.992248  0.853333  0.917563       150\n",
      "\n",
      "    accuracy                       0.979372      1115\n",
      "   macro avg   0.984968  0.926149  0.952887      1115\n",
      "weighted avg   0.979646  0.979372  0.978707      1115\n",
      "\n"
     ]
    }
   ],
   "source": [
    "from sklearn import metrics\n",
    "from sklearn.metrics import classification_report\n",
    "print(\"Accuracy:\", metrics.accuracy_score(Y_test,Y_pred_naive))\n",
    "print(classification_report(Y_test,Y_pred_naive, digits=6))\n"
   ]
  },
  {
   "cell_type": "markdown",
   "metadata": {
    "id": "F3h4Jm7Czo56"
   },
   "source": [
    "### Applying Decision Tree Classifier with entropy criterion"
   ]
  },
  {
   "cell_type": "code",
   "execution_count": 19,
   "metadata": {
    "colab": {
     "base_uri": "https://localhost:8080/",
     "height": 75
    },
    "id": "tWsDjbJiy0qu",
    "outputId": "e151bd54-d76e-4c7a-9cf4-daf925e7cf99"
   },
   "outputs": [
    {
     "data": {
      "text/plain": [
       "DecisionTreeClassifier(criterion='entropy', max_depth=3)"
      ]
     },
     "execution_count": 19,
     "metadata": {},
     "output_type": "execute_result"
    }
   ],
   "source": [
    "from sklearn.tree import DecisionTreeClassifier\n",
    "DT_model=DecisionTreeClassifier(criterion='entropy',max_depth=3)\n",
    "DT_model.fit(X_train,Y_train)"
   ]
  },
  {
   "cell_type": "code",
   "execution_count": 20,
   "metadata": {},
   "outputs": [],
   "source": [
    "from sklearn import tree"
   ]
  },
  {
   "cell_type": "code",
   "execution_count": 21,
   "metadata": {
    "scrolled": true
   },
   "outputs": [
    {
     "data": {
      "text/plain": [
       "[Text(0.5, 0.875, 'X[655] <= 0.092\\nentropy = 0.568\\nsamples = 4457\\nvalue = [3860, 597]'),\n",
       " Text(0.25, 0.625, 'X[4401] <= 0.06\\nentropy = 0.407\\nsamples = 3993\\nvalue = [3668, 325]'),\n",
       " Text(0.125, 0.375, 'X[4126] <= 0.114\\nentropy = 0.299\\nsamples = 3863\\nvalue = [3658, 205]'),\n",
       " Text(0.0625, 0.125, 'entropy = 0.236\\nsamples = 3743\\nvalue = [3598, 145]'),\n",
       " Text(0.1875, 0.125, 'entropy = 1.0\\nsamples = 120\\nvalue = [60, 60]'),\n",
       " Text(0.375, 0.375, 'X[4401] <= 0.187\\nentropy = 0.391\\nsamples = 130\\nvalue = [10, 120]'),\n",
       " Text(0.3125, 0.125, 'entropy = 0.087\\nsamples = 91\\nvalue = [1, 90]'),\n",
       " Text(0.4375, 0.125, 'entropy = 0.779\\nsamples = 39\\nvalue = [9, 30]'),\n",
       " Text(0.75, 0.625, 'X[655] <= 0.183\\nentropy = 0.978\\nsamples = 464\\nvalue = [192, 272]'),\n",
       " Text(0.625, 0.375, 'X[756] <= 0.085\\nentropy = 0.739\\nsamples = 268\\nvalue = [56, 212]'),\n",
       " Text(0.5625, 0.125, 'entropy = 0.831\\nsamples = 213\\nvalue = [56, 157]'),\n",
       " Text(0.6875, 0.125, 'entropy = 0.0\\nsamples = 55\\nvalue = [0, 55]'),\n",
       " Text(0.875, 0.375, 'X[2523] <= 0.078\\nentropy = 0.889\\nsamples = 196\\nvalue = [136, 60]'),\n",
       " Text(0.8125, 0.125, 'entropy = 0.699\\nsamples = 164\\nvalue = [133, 31]'),\n",
       " Text(0.9375, 0.125, 'entropy = 0.449\\nsamples = 32\\nvalue = [3, 29]')]"
      ]
     },
     "execution_count": 21,
     "metadata": {},
     "output_type": "execute_result"
    },
    {
     "data": {
      "image/png": "[encoded data removed]",
      "text/plain": [
       "<Figure size 432x288 with 1 Axes>"
      ]
     },
     "metadata": {
      "needs_background": "light"
     },
     "output_type": "display_data"
    }
   ],
   "source": [
    "tree.plot_tree(DT_model) #PLoting the tree of Dt"
   ]
  },
  {
   "cell_type": "code",
   "execution_count": 22,
   "metadata": {
    "colab": {
     "base_uri": "https://localhost:8080/"
    },
    "id": "oSdIGN4pzEl8",
    "outputId": "9a3409b1-7e06-4373-ce07-06fdb9879f75"
   },
   "outputs": [
    {
     "name": "stdout",
     "output_type": "stream",
     "text": [
      "[[938  27]\n",
      " [ 64  86]]\n",
      "91.83856502242152\n"
     ]
    }
   ],
   "source": [
    "Y_pred_DT=DT_model.predict(X_test)\n",
    "confusion_matrix_DT = confusion_matrix(Y_test, Y_pred_DT)\n",
    "accuracy_DT = accuracy_score(Y_test, Y_pred_DT)\n",
    "print(confusion_matrix_DT)\n",
    "print(accuracy_DT*100)"
   ]
  },
  {
   "cell_type": "code",
   "execution_count": 23,
   "metadata": {
    "scrolled": true
   },
   "outputs": [
    {
     "name": "stdout",
     "output_type": "stream",
     "text": [
      "Accuracy: 0.9183856502242153\n",
      "              precision    recall  f1-score   support\n",
      "\n",
      "           0   0.936128  0.972021  0.953737       965\n",
      "           1   0.761062  0.573333  0.653992       150\n",
      "\n",
      "    accuracy                       0.918386      1115\n",
      "   macro avg   0.848595  0.772677  0.803865      1115\n",
      "weighted avg   0.912576  0.918386  0.913412      1115\n",
      "\n"
     ]
    }
   ],
   "source": [
    "from sklearn.metrics import classification_report\n",
    "print(\"Accuracy:\", metrics.accuracy_score(Y_test,Y_pred_DT))\n",
    "print(classification_report(Y_test,Y_pred_DT, digits=6))\n"
   ]
  },
  {
   "cell_type": "markdown",
   "metadata": {},
   "source": [
    "### Applying Logistic Regression"
   ]
  },
  {
   "cell_type": "code",
   "execution_count": 24,
   "metadata": {
    "scrolled": false
   },
   "outputs": [
    {
     "data": {
      "text/plain": [
       "LogisticRegression()"
      ]
     },
     "execution_count": 24,
     "metadata": {},
     "output_type": "execute_result"
    }
   ],
   "source": [
    "from sklearn.linear_model import LogisticRegression\n",
    "lg=LogisticRegression()\n",
    "lg.fit(X_train,Y_train)"
   ]
  },
  {
   "cell_type": "code",
   "execution_count": 25,
   "metadata": {
    "scrolled": true
   },
   "outputs": [
    {
     "name": "stdout",
     "output_type": "stream",
     "text": [
      "[[958   7]\n",
      " [ 35 115]]\n",
      "96.23318385650225\n"
     ]
    }
   ],
   "source": [
    "Y_pred_LR=lg.predict(X_test)\n",
    "confusion_matrix_LR = confusion_matrix(Y_test, Y_pred_LR)\n",
    "accuracy_LR = accuracy_score(Y_test, Y_pred_LR)\n",
    "print(confusion_matrix_LR)\n",
    "print(accuracy_LR*100)"
   ]
  },
  {
   "cell_type": "code",
   "execution_count": 26,
   "metadata": {},
   "outputs": [],
   "source": [
    "from sklearn import metrics"
   ]
  },
  {
   "cell_type": "code",
   "execution_count": 27,
   "metadata": {
    "scrolled": false
   },
   "outputs": [
    {
     "name": "stdout",
     "output_type": "stream",
     "text": [
      "Accuracy: 0.9623318385650225\n",
      "              precision    recall  f1-score   support\n",
      "\n",
      "           0   0.964753  0.992746  0.978550       965\n",
      "           1   0.942623  0.766667  0.845588       150\n",
      "\n",
      "    accuracy                       0.962332      1115\n",
      "   macro avg   0.953688  0.879706  0.912069      1115\n",
      "weighted avg   0.961776  0.962332  0.960662      1115\n",
      "\n"
     ]
    }
   ],
   "source": [
    "from sklearn.metrics import classification_report\n",
    "print(\"Accuracy:\", metrics.accuracy_score(Y_test,Y_pred_LR))\n",
    "print(classification_report(Y_test,Y_pred_LR, digits=6))\n"
   ]
  },
  {
   "cell_type": "markdown",
   "metadata": {},
   "source": [
    "### Predicting User Input is spam/ham By the following 3 models"
   ]
  },
  {
   "cell_type": "code",
   "execution_count": 57,
   "metadata": {},
   "outputs": [
    {
     "name": "stdout",
     "output_type": "stream",
     "text": [
      "Enter Your String: You have been nominated for kbc and you won prize of $1900\n"
     ]
    }
   ],
   "source": [
    "test1=input(\"Enter Your String: \") "
   ]
  },
  {
   "cell_type": "code",
   "execution_count": 58,
   "metadata": {},
   "outputs": [],
   "source": [
    "s1 = re.sub('[^a-zA-Z]', ' ', test1)\n",
    "s1 = s1.lower()\n",
    "s1 = s1.split()\n",
    "s1 = [stemmer.stem(word) for word in s1 if not word in stopwords.words('english')]\n",
    "x1=cv.transform(s1)"
   ]
  },
  {
   "cell_type": "code",
   "execution_count": 59,
   "metadata": {},
   "outputs": [],
   "source": [
    "tnv=Naive_Model.predict(x1)\n",
    "op=np.sum(tnv)"
   ]
  },
  {
   "cell_type": "code",
   "execution_count": 60,
   "metadata": {},
   "outputs": [
    {
     "name": "stdout",
     "output_type": "stream",
     "text": [
      "Spam\n"
     ]
    }
   ],
   "source": [
    "if op==0:\n",
    "    print(\"Ham\")\n",
    "else:\n",
    "    print(\"Spam\")"
   ]
  }
 ],
 "metadata": {
  "colab": {
   "provenance": []
  },
  "kernelspec": {
   "display_name": "Python 3 (ipykernel)",
   "language": "python",
   "name": "python3"
  },
  "language_info": {
   "codemirror_mode": {
    "name": "ipython",
    "version": 3
   },
   "file_extension": ".py",
   "mimetype": "text/x-python",
   "name": "python",
   "nbconvert_exporter": "python",
   "pygments_lexer": "ipython3",
   "version": "3.9.12"
  }
 },
 "nbformat": 4,
 "nbformat_minor": 1
}
